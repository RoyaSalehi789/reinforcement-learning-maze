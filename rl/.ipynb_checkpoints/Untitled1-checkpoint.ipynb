{
 "cells": [
  {
   "cell_type": "code",
   "execution_count": 110,
   "id": "dfdc4b4f-bf4a-4b51-bcd2-3f6311382b91",
   "metadata": {},
   "outputs": [],
   "source": [
    "import gym\n",
    "import gym_maze\n",
    "import numpy as np"
   ]
  },
  {
   "cell_type": "code",
   "execution_count": 111,
   "id": "00a00391-4e25-4598-989c-5c25d4499cca",
   "metadata": {},
   "outputs": [],
   "source": [
    "def get_next_location(action):\n",
    "    next_state, reward, done, truncated = env.step(action)\n",
    "    print(next_state)\n",
    "    return next_state[0], next_state[1]"
   ]
  },
  {
   "cell_type": "code",
   "execution_count": 112,
   "id": "8b40de93-d03b-4283-b507-c0d06687c4a4",
   "metadata": {},
   "outputs": [],
   "source": [
    "def get_next_action(current_row_index, current_column_index, epsilon):\n",
    "  #if a randomly chosen value between 0 and 1 is less than epsilon, \n",
    "  #then choose the most promising value from the Q-table for this state.\n",
    "  if np.random.random() > epsilon:\n",
    "    return np.argmax(q_values[current_row_index, current_column_index])\n",
    "  else: #choose a random action\n",
    "    return np.random.randint(4)"
   ]
  },
  {
   "cell_type": "code",
   "execution_count": 113,
   "id": "cd4774ad-f2b8-42b8-8c3d-249e6b9495c0",
   "metadata": {},
   "outputs": [],
   "source": [
    "# epsilon = 0.9 #the percentage of time when we should take the best action (instead of a random action)\n",
    "discount_factor = 0.9 #discount factor for future rewards\n",
    "learning_rate = 0.9 #the rate at which the AI agent should learn\n",
    "def q_learning(num):\n",
    "    epsilon = 0.9 \n",
    "    #counter = 0\n",
    "    sum = 0\n",
    "    for episode in range(num):\n",
    "        current_state = env.reset()\n",
    "        row_index = int(current_state[0])\n",
    "        column_index = int(current_state[1])\n",
    "        limit = 0\n",
    "        done = False\n",
    "        \n",
    "        steps = 0\n",
    "        while not done:\n",
    "            steps += 1\n",
    "            epsilon -= 0.001\n",
    "            limit += 1\n",
    "            # if limit > 200:\n",
    "            #     break\n",
    "\n",
    "            # env.render()\n",
    "            action_index = get_next_action(row_index, column_index, epsilon)\n",
    "            \n",
    "            \n",
    "            #perform the chosen action, and transition to the next state (i.e., move to the next location)\n",
    "            old_row_index, old_column_index = row_index, column_index #store the old row and column indexes\n",
    "            \n",
    "            next_state, reward, done, truncated = env.step(action_index)\n",
    "            row_index = next_state[0]\n",
    "            column_index = next_state[1]\n",
    "    \n",
    "            old_q_value = q_values[old_row_index, old_column_index, action_index]\n",
    "            temporal_difference = reward + (discount_factor * np.max(q_values[row_index, column_index,:])) - old_q_value\n",
    "        \n",
    "            #update the Q-value for the previous state and action pair\n",
    "            new_q_value = old_q_value + (learning_rate * temporal_difference)\n",
    "            q_values[old_row_index, old_column_index, action_index] = new_q_value\n",
    "            #if(done):\n",
    "                #counter += 1\n",
    "                #print(episode,':', steps, end='   ')\n",
    "                \n",
    "        sum += steps        \n",
    "    print('Training complete!')\n",
    "    avg = sum // num\n",
    "    print(avg)"
   ]
  },
  {
   "cell_type": "code",
   "execution_count": 114,
   "id": "e6621017-cfb9-4242-8ea1-751bfe054cf7",
   "metadata": {},
   "outputs": [
    {
     "name": "stdout",
     "output_type": "stream",
     "text": [
      "Training complete!\n",
      "41\n"
     ]
    }
   ],
   "source": [
    "# Create an environment\n",
    "env = gym.make(\"maze-random-10x10-plus-v0\")\n",
    "observation = env.reset()\n",
    "NUM_EPISODES = 1000\n",
    "\n",
    "q_values = np.zeros((10, 10, 4))\n",
    "q_learning(NUM_EPISODES)\n",
    "#print(q_values)"
   ]
  },
  {
   "cell_type": "code",
   "execution_count": null,
   "id": "56df166d-5036-4e74-897d-813f3914e88b",
   "metadata": {},
   "outputs": [],
   "source": []
  },
  {
   "cell_type": "code",
   "execution_count": null,
   "id": "67064aba-b846-430a-a5a9-81b951637c27",
   "metadata": {},
   "outputs": [],
   "source": []
  },
  {
   "cell_type": "code",
   "execution_count": null,
   "id": "15117eca-bdf2-4302-885c-d6b586ba1f4d",
   "metadata": {},
   "outputs": [],
   "source": []
  }
 ],
 "metadata": {
  "kernelspec": {
   "display_name": "Python 3 (ipykernel)",
   "language": "python",
   "name": "python3"
  },
  "language_info": {
   "codemirror_mode": {
    "name": "ipython",
    "version": 3
   },
   "file_extension": ".py",
   "mimetype": "text/x-python",
   "name": "python",
   "nbconvert_exporter": "python",
   "pygments_lexer": "ipython3",
   "version": "3.11.5"
  }
 },
 "nbformat": 4,
 "nbformat_minor": 5
}
