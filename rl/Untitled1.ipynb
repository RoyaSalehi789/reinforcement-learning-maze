{
 "cells": [
  {
   "cell_type": "code",
   "execution_count": 26,
   "id": "dfdc4b4f-bf4a-4b51-bcd2-3f6311382b91",
   "metadata": {},
   "outputs": [],
   "source": [
    "import gym\n",
    "import gym_maze\n",
    "import numpy as np"
   ]
  },
  {
   "cell_type": "code",
   "execution_count": 27,
   "id": "ebe5175c-4b3d-495d-a3d6-a4a08c54e8a7",
   "metadata": {},
   "outputs": [],
   "source": [
    "# Create an environment\n",
    "\n",
    "q_values = np.zeros((10, 10, 4))"
   ]
  },
  {
   "cell_type": "code",
   "execution_count": 28,
   "id": "3deebb1b-203e-44e4-ac4d-71f51dc89aec",
   "metadata": {},
   "outputs": [],
   "source": [
    "def is_terminal_state(reward):\n",
    "  #if the reward for this location is -1, then it is not a terminal state (i.e., it is a 'white square')\n",
    "  if reward == -0.001:\n",
    "    return False\n",
    "  else:\n",
    "    return True"
   ]
  },
  {
   "cell_type": "code",
   "execution_count": 29,
   "id": "00a00391-4e25-4598-989c-5c25d4499cca",
   "metadata": {},
   "outputs": [],
   "source": [
    "def get_next_location(action):\n",
    "    next_state, reward, done, truncated = env.step(action)\n",
    "    print(next_state)\n",
    "    return next_state[0], next_state[1]"
   ]
  },
  {
   "cell_type": "code",
   "execution_count": 30,
   "id": "8b40de93-d03b-4283-b507-c0d06687c4a4",
   "metadata": {},
   "outputs": [],
   "source": [
    "def get_next_action(current_row_index, current_column_index, epsilon):\n",
    "  #if a randomly chosen value between 0 and 1 is less than epsilon, \n",
    "  #then choose the most promising value from the Q-table for this state.\n",
    "  if np.random.random() < epsilon:\n",
    "    return np.argmax(q_values[current_row_index, current_column_index])\n",
    "  else: #choose a random action\n",
    "    return np.random.randint(4)"
   ]
  },
  {
   "cell_type": "code",
   "execution_count": 32,
   "id": "cd4774ad-f2b8-42b8-8c3d-249e6b9495c0",
   "metadata": {},
   "outputs": [],
   "source": [
    "epsilon = 0.9 #the percentage of time when we should take the best action (instead of a random action)\n",
    "discount_factor = 0.9 #discount factor for future rewards\n",
    "learning_rate = 0.9 #the rate at which the AI agent should learn\n",
    "\n",
    "def q_learning():\n",
    "    for episode in range(1000):\n",
    "        current_state = env.reset()\n",
    "        row_index = int(current_state[0])\n",
    "        column_index = int(current_state[1])\n",
    "        reward = -0.001\n",
    "        limit = 0\n",
    "        while not done:\n",
    "            limit += 1\n",
    "            #choose which action to take (i.e., where to move next)\n",
    "            if limit > 200:\n",
    "                break\n",
    "            action_index = get_next_action(row_index, column_index, epsilon)\n",
    "            \n",
    "    \n",
    "            #perform the chosen action, and transition to the next state (i.e., move to the next location)\n",
    "            old_row_index, old_column_index = row_index, column_index #store the old row and column indexes\n",
    "            \n",
    "            next_state, reward, done, truncated = env.step(action_index)\n",
    "            row_index = next_state[0]\n",
    "            column_index = next_state[1]\n",
    "    \n",
    "            old_q_value = q_values[old_row_index, old_column_index, action_index]\n",
    "            temporal_difference = reward + (discount_factor * np.max(q_values[row_index, column_index,:])) - old_q_value\n",
    "        \n",
    "            #update the Q-value for the previous state and action pair\n",
    "            new_q_value = old_q_value + (learning_rate * temporal_difference)\n",
    "            q_values[old_row_index, old_column_index, action_index] = new_q_value\n",
    "\n",
    "    policy = []\n",
    "    for i in range(10):\n",
    "        for j in range(10):\n",
    "           policy.append(np.argmax(q_values[i, j]))\n",
    "        \n",
    "    print('Training complete!')\n",
    "    return policy"
   ]
  },
  {
   "cell_type": "code",
   "execution_count": 33,
   "id": "e6621017-cfb9-4242-8ea1-751bfe054cf7",
   "metadata": {},
   "outputs": [
    {
     "name": "stdout",
     "output_type": "stream",
     "text": [
      "Training complete!\n",
      "23\n"
     ]
    }
   ],
   "source": [
    "import gym\n",
    "import gym_maze\n",
    "\n",
    "# Create an environment\n",
    "env = gym.make(\"maze-random-10x10-plus-v0\")\n",
    "observation = env.reset()\n",
    "\n",
    "policy = q_learning()\n",
    "next = 0\n",
    "counter = 0\n",
    "# Define the maximum number of iterations\n",
    "NUM_EPISODES = 1000\n",
    "\n",
    "for episode in range(NUM_EPISODES):\n",
    "    env.render()\n",
    "    # TODO: Implement the agent policy here\n",
    "    # Note: .sample() is used to sample random action from the environment's action space\n",
    "\n",
    "    # Choose an action (Replace this random action with your agent's policy)\n",
    "    action = policy[next]\n",
    "\n",
    "    # Perform the action and receive feedback from the environment\n",
    "    next_state, reward, done, truncated = env.step(action)\n",
    "    next = next_state[0] * 10 + next_state[1]\n",
    "    if done:\n",
    "        counter += 1\n",
    "    if done or truncated:\n",
    "        observation = env.reset()\n",
    "\n",
    "# Close the environment\n",
    "env.close()\n",
    "print(counter)"
   ]
  },
  {
   "cell_type": "code",
   "execution_count": 34,
   "id": "56df166d-5036-4e74-897d-813f3914e88b",
   "metadata": {},
   "outputs": [
    {
     "name": "stdout",
     "output_type": "stream",
     "text": [
      "[3, 1, 1, 1, 2, 2, 3, 1, 1, 0, 1, 3, 3, 1, 1, 1, 3, 1, 1, 3, 2, 1, 1, 3, 0, 1, 0, 3, 0, 0, 2, 2, 3, 0, 0, 3, 3, 2, 3, 3, 1, 2, 0, 1, 2, 3, 2, 1, 3, 3, 0, 0, 2, 2, 0, 0, 3, 3, 3, 1, 3, 0, 1, 2, 0, 2, 3, 1, 2, 0, 3, 1, 2, 0, 2, 0, 0, 1, 3, 3, 0, 3, 3, 2, 0, 0, 0, 3, 1, 2, 1, 1, 1, 1, 1, 3, 1, 1, 3, 0]\n"
     ]
    }
   ],
   "source": [
    "print(policy)"
   ]
  },
  {
   "cell_type": "code",
   "execution_count": null,
   "id": "67064aba-b846-430a-a5a9-81b951637c27",
   "metadata": {},
   "outputs": [],
   "source": []
  },
  {
   "cell_type": "code",
   "execution_count": null,
   "id": "15117eca-bdf2-4302-885c-d6b586ba1f4d",
   "metadata": {},
   "outputs": [],
   "source": []
  }
 ],
 "metadata": {
  "kernelspec": {
   "display_name": "Python 3 (ipykernel)",
   "language": "python",
   "name": "python3"
  },
  "language_info": {
   "codemirror_mode": {
    "name": "ipython",
    "version": 3
   },
   "file_extension": ".py",
   "mimetype": "text/x-python",
   "name": "python",
   "nbconvert_exporter": "python",
   "pygments_lexer": "ipython3",
   "version": "3.11.5"
  }
 },
 "nbformat": 4,
 "nbformat_minor": 5
}
